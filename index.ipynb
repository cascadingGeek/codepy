{
 "cells": [
  {
   "cell_type": "code",
   "execution_count": null,
   "id": "54537a27",
   "metadata": {},
   "outputs": [],
   "source": [
    "from agents import Agent, Runner, WebSearchTool, function_tool\n",
    "\n",
    "web_search = WebSearchTool()\n",
    "\n",
    "transfer_agent = Agent(\n",
    "    name=\"Transfer Agent\",\n",
    "    instructions=(\n",
    "        \"You are a transfer agent.\"\n",
    "        \"You will be given a prompt and you will search online for the latest transfer news\"\n",
    "        \"You will return the response in a json format\"\n",
    "    ),\n",
    "    model=\"gpt-4o-mini\",\n",
    "    tools=[web_search]\n",
    ")\n",
    "\n",
    "# prompt = input(\"Enter a prompt: \")\n",
    "# transfer_response = await Runner.run(transfer_agent, prompt)\n",
    "# print(transfer_response.final_output)"
   ]
  },
  {
   "cell_type": "code",
   "execution_count": null,
   "id": "906c4e06",
   "metadata": {},
   "outputs": [
    {
     "name": "stdout",
     "output_type": "stream",
     "text": [
      "As of June 18, 2025, Chelsea FC has made several notable signings to strengthen their squad for the upcoming season. Here are the latest additions:\n",
      "\n",
      "\n",
      "\n",
      "**Liam Delap**  \n",
      "A 22-year-old forward signed from Ipswich Town for £30 million. Delap scored 12 goals in 37 league appearances for Ipswich last season. ([reuters.com](https://www.reuters.com/sports/soccer/forward-delap-joins-chelsea-ahead-club-world-cup-2025-06-04/?utm_source=openai))\n",
      "\n",
      "\n",
      "\n",
      "\n",
      "**Dário Essugo**  \n",
      "A 20-year-old defensive midfielder acquired from Sporting CP for £18.5 million. Essugo is expected to join Chelsea in time for the Club World Cup. ([en.wikipedia.org](https://en.wikipedia.org/wiki/2024%E2%80%9325_Chelsea_F.C._season?utm_source=openai))\n",
      "\n",
      "\n",
      "\n",
      "\n",
      "**Mamadou Sarr**  \n",
      "A 19-year-old French defender signed from Strasbourg for approximately £14 million. Sarr has represented France at the Under-19 level. ([reuters.com](https://www.reuters.com/sports/soccer/chelsea-sign-defender-sarr-strasbourg-2025-06-09/?utm_source=openai))\n",
      "\n",
      "\n",
      "\n",
      "\n",
      "**Mike Penders**  \n",
      "A 19-year-old goalkeeper signed from Genk for £17 million. Penders is expected to provide competition for the starting goalkeeper position. ([en.wikipedia.org](https://en.wikipedia.org/wiki/2024%E2%80%9325_Chelsea_F.C._season?utm_source=openai))\n",
      "\n",
      "\n",
      "\n",
      "\n",
      "**Kiernan Dewsbury-Hall**  \n",
      "A 25-year-old midfielder signed from Leicester City for £30 million. Dewsbury-Hall reunites with former Leicester manager Enzo Maresca at Chelsea. ([en.wikipedia.org](https://en.wikipedia.org/wiki/Kiernan_Dewsbury-Hall?utm_source=openai))\n",
      "\n",
      "\n",
      "These signings reflect Chelsea's commitment to building a competitive squad for the upcoming season. \n"
     ]
    }
   ],
   "source": []
  },
  {
   "cell_type": "code",
   "execution_count": null,
   "id": "7021a501",
   "metadata": {},
   "outputs": [
    {
     "name": "stdout",
     "output_type": "stream",
     "text": [
      "As of June 19, 2025, Manchester City has been active in the transfer market, making several significant moves to reshape their squad.\n",
      "\n",
      "**Incoming Transfers:**\n",
      "\n",
      "- **Rayan Cherki:** The 21-year-old French midfielder joined from Olympique Lyonnais for €40 million. Cherki has expressed his ambition to win all possible titles with City and aims for personal accolades like the Ballon d'Or. ([cadenaser.com](https://cadenaser.com/nacional/2025/06/16/cherki-llega-con-sed-de-venganza-al-united-quiero-matarlo-cadena-ser/?utm_source=openai))\n",
      "\n",
      "- **Rayan Aït-Nouri:** The Algerian left-back was signed from Wolverhampton Wanderers for £50 million, addressing City's need for reinforcement in the left-back position. ([thescore.com](https://www.thescore.com/epl/news/3215176/latest-transfer-news-and-rumors-muller-mulling-mls-or-retirement?utm_source=openai))\n",
      "\n",
      "- **Tijjani Reijnders:** The Dutch midfielder was acquired from AC Milan for approximately £60 million, bolstering City's central midfield options. ([manchestercitylatestnews.com](https://manchestercitylatestnews.com/manchester-city-transfer-news-now/?utm_source=openai))\n",
      "\n",
      "- **Omar Marmoush:** The Egyptian forward joined from Eintracht Frankfurt in January 2025 for £59 million. Marmoush made an immediate impact, scoring a hat-trick in a 4–0 victory over Newcastle United and earning the Premier League Goal of the Season award for a long-range effort against Bournemouth. ([en.wikipedia.org](https://en.wikipedia.org/wiki/Omar_Marmoush?utm_source=openai))\n",
      "\n",
      "**Outgoing Transfers:**\n",
      "\n",
      "- **Kevin De Bruyne:** After a decade at Manchester City, the Belgian midfielder joined Serie A champions Napoli as a free agent. During his tenure at City, De Bruyne won 19 trophies, including six Premier League titles and a Champions League crown. ([reuters.com](https://www.reuters.com/sports/soccer/de-bruyne-joins-italian-champions-napoli-after-man-city-exit-2025-06-12/?utm_source=openai))\n",
      "\n",
      "- **Jack Grealish:** The English midfielder is reportedly close to leaving the club due to limited playing time and form issues. Manager Pep Guardiola hinted at a potential summer exit for Grealish to seek more consistent playing opportunities. ([reuters.com](https://www.reuters.com/sports/soccer/guardiola-hints-summer-exit-grealish-after-club-world-cup-omission-2025-06-18/?utm_source=openai))\n",
      "\n",
      "- **Kyle Walker:** The English right-back joined AC Milan on loan in January 2025, with an option for a permanent transfer. Walker's move marks the end of a successful eight-year stint at Manchester City, during which he won 17 major titles. ([sportsdunia.com](https://www.sportsdunia.com/football-transfers/man-city-latest-transfer-rumours-news-updates-live?utm_source=openai))\n",
      "\n",
      "These transfers reflect Manchester City's strategic efforts to rejuvenate their squad following a trophyless 2023–24 season, aiming to maintain competitiveness in domestic and international competitions. \n"
     ]
    }
   ],
   "source": []
  },
  {
   "cell_type": "code",
   "execution_count": null,
   "id": "2bf7518d",
   "metadata": {},
   "outputs": [],
   "source": [
    "from dotenv import load_dotenv\n",
    "import os\n",
    "\n",
    "load_dotenv()\n",
    "\n",
    "api_key = os.getenv(\"OPENAI_API_KEY\")\n",
    "\n",
    "if not api_key:\n",
    "    raise Exception(\"OpenAI API key not found. Please set the OPENAI_API_KEY environment variable.\")"
   ]
  }
 ],
 "metadata": {
  "kernelspec": {
   "display_name": "agentai",
   "language": "python",
   "name": "python3"
  },
  "language_info": {
   "codemirror_mode": {
    "name": "ipython",
    "version": 3
   },
   "file_extension": ".py",
   "mimetype": "text/x-python",
   "name": "python",
   "nbconvert_exporter": "python",
   "pygments_lexer": "ipython3",
   "version": "3.13.4"
  }
 },
 "nbformat": 4,
 "nbformat_minor": 5
}
